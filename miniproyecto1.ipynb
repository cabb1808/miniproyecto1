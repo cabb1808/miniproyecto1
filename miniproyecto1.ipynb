{
  "nbformat": 4,
  "nbformat_minor": 0,
  "metadata": {
    "colab": {
      "provenance": [],
      "include_colab_link": true
    },
    "kernelspec": {
      "name": "python3",
      "display_name": "Python 3"
    },
    "language_info": {
      "name": "python"
    },
    "widgets": {
      "application/vnd.jupyter.widget-state+json": {
        "1323aec1098845058298f866c50ac24a": {
          "model_module": "@jupyter-widgets/controls",
          "model_name": "VBoxModel",
          "model_module_version": "1.5.0",
          "state": {
            "_dom_classes": [
              "widget-interact"
            ],
            "_model_module": "@jupyter-widgets/controls",
            "_model_module_version": "1.5.0",
            "_model_name": "VBoxModel",
            "_view_count": null,
            "_view_module": "@jupyter-widgets/controls",
            "_view_module_version": "1.5.0",
            "_view_name": "VBoxView",
            "box_style": "",
            "children": [
              "IPY_MODEL_f7bae5ae132444449e0fd3041f812f9d",
              "IPY_MODEL_73c3b41246c94a699e7ca7772e6dc1ba"
            ],
            "layout": "IPY_MODEL_5b407993fa164a818ddd5ce50967ca6d"
          }
        },
        "f7bae5ae132444449e0fd3041f812f9d": {
          "model_module": "@jupyter-widgets/controls",
          "model_name": "IntSliderModel",
          "model_module_version": "1.5.0",
          "state": {
            "_dom_classes": [],
            "_model_module": "@jupyter-widgets/controls",
            "_model_module_version": "1.5.0",
            "_model_name": "IntSliderModel",
            "_view_count": null,
            "_view_module": "@jupyter-widgets/controls",
            "_view_module_version": "1.5.0",
            "_view_name": "IntSliderView",
            "continuous_update": true,
            "description": "idx",
            "description_tooltip": null,
            "disabled": false,
            "layout": "IPY_MODEL_ee3c49bd916643dfa564080b4569f2c8",
            "max": 20,
            "min": 0,
            "orientation": "horizontal",
            "readout": true,
            "readout_format": "d",
            "step": 1,
            "style": "IPY_MODEL_ca83a6be645a42a1b9e385aabab9eb9a",
            "value": 10
          }
        },
        "73c3b41246c94a699e7ca7772e6dc1ba": {
          "model_module": "@jupyter-widgets/output",
          "model_name": "OutputModel",
          "model_module_version": "1.0.0",
          "state": {
            "_dom_classes": [],
            "_model_module": "@jupyter-widgets/output",
            "_model_module_version": "1.0.0",
            "_model_name": "OutputModel",
            "_view_count": null,
            "_view_module": "@jupyter-widgets/output",
            "_view_module_version": "1.0.0",
            "_view_name": "OutputView",
            "layout": "IPY_MODEL_0399d6fb3cc14d9f8bbbe21765e7484e",
            "msg_id": "",
            "outputs": [
              {
                "output_type": "display_data",
                "data": {
                  "text/plain": "<Figure size 432x288 with 1 Axes>",
                  "image/png": "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\n"
                },
                "metadata": {
                  "needs_background": "light"
                }
              }
            ]
          }
        },
        "5b407993fa164a818ddd5ce50967ca6d": {
          "model_module": "@jupyter-widgets/base",
          "model_name": "LayoutModel",
          "model_module_version": "1.2.0",
          "state": {
            "_model_module": "@jupyter-widgets/base",
            "_model_module_version": "1.2.0",
            "_model_name": "LayoutModel",
            "_view_count": null,
            "_view_module": "@jupyter-widgets/base",
            "_view_module_version": "1.2.0",
            "_view_name": "LayoutView",
            "align_content": null,
            "align_items": null,
            "align_self": null,
            "border": null,
            "bottom": null,
            "display": null,
            "flex": null,
            "flex_flow": null,
            "grid_area": null,
            "grid_auto_columns": null,
            "grid_auto_flow": null,
            "grid_auto_rows": null,
            "grid_column": null,
            "grid_gap": null,
            "grid_row": null,
            "grid_template_areas": null,
            "grid_template_columns": null,
            "grid_template_rows": null,
            "height": null,
            "justify_content": null,
            "justify_items": null,
            "left": null,
            "margin": null,
            "max_height": null,
            "max_width": null,
            "min_height": null,
            "min_width": null,
            "object_fit": null,
            "object_position": null,
            "order": null,
            "overflow": null,
            "overflow_x": null,
            "overflow_y": null,
            "padding": null,
            "right": null,
            "top": null,
            "visibility": null,
            "width": null
          }
        },
        "ee3c49bd916643dfa564080b4569f2c8": {
          "model_module": "@jupyter-widgets/base",
          "model_name": "LayoutModel",
          "model_module_version": "1.2.0",
          "state": {
            "_model_module": "@jupyter-widgets/base",
            "_model_module_version": "1.2.0",
            "_model_name": "LayoutModel",
            "_view_count": null,
            "_view_module": "@jupyter-widgets/base",
            "_view_module_version": "1.2.0",
            "_view_name": "LayoutView",
            "align_content": null,
            "align_items": null,
            "align_self": null,
            "border": null,
            "bottom": null,
            "display": null,
            "flex": null,
            "flex_flow": null,
            "grid_area": null,
            "grid_auto_columns": null,
            "grid_auto_flow": null,
            "grid_auto_rows": null,
            "grid_column": null,
            "grid_gap": null,
            "grid_row": null,
            "grid_template_areas": null,
            "grid_template_columns": null,
            "grid_template_rows": null,
            "height": null,
            "justify_content": null,
            "justify_items": null,
            "left": null,
            "margin": null,
            "max_height": null,
            "max_width": null,
            "min_height": null,
            "min_width": null,
            "object_fit": null,
            "object_position": null,
            "order": null,
            "overflow": null,
            "overflow_x": null,
            "overflow_y": null,
            "padding": null,
            "right": null,
            "top": null,
            "visibility": null,
            "width": null
          }
        },
        "ca83a6be645a42a1b9e385aabab9eb9a": {
          "model_module": "@jupyter-widgets/controls",
          "model_name": "SliderStyleModel",
          "model_module_version": "1.5.0",
          "state": {
            "_model_module": "@jupyter-widgets/controls",
            "_model_module_version": "1.5.0",
            "_model_name": "SliderStyleModel",
            "_view_count": null,
            "_view_module": "@jupyter-widgets/base",
            "_view_module_version": "1.2.0",
            "_view_name": "StyleView",
            "description_width": "",
            "handle_color": null
          }
        },
        "0399d6fb3cc14d9f8bbbe21765e7484e": {
          "model_module": "@jupyter-widgets/base",
          "model_name": "LayoutModel",
          "model_module_version": "1.2.0",
          "state": {
            "_model_module": "@jupyter-widgets/base",
            "_model_module_version": "1.2.0",
            "_model_name": "LayoutModel",
            "_view_count": null,
            "_view_module": "@jupyter-widgets/base",
            "_view_module_version": "1.2.0",
            "_view_name": "LayoutView",
            "align_content": null,
            "align_items": null,
            "align_self": null,
            "border": null,
            "bottom": null,
            "display": null,
            "flex": null,
            "flex_flow": null,
            "grid_area": null,
            "grid_auto_columns": null,
            "grid_auto_flow": null,
            "grid_auto_rows": null,
            "grid_column": null,
            "grid_gap": null,
            "grid_row": null,
            "grid_template_areas": null,
            "grid_template_columns": null,
            "grid_template_rows": null,
            "height": null,
            "justify_content": null,
            "justify_items": null,
            "left": null,
            "margin": null,
            "max_height": null,
            "max_width": null,
            "min_height": null,
            "min_width": null,
            "object_fit": null,
            "object_position": null,
            "order": null,
            "overflow": null,
            "overflow_x": null,
            "overflow_y": null,
            "padding": null,
            "right": null,
            "top": null,
            "visibility": null,
            "width": null
          }
        },
        "e691c51d08134b8587655617e58bab8a": {
          "model_module": "@jupyter-widgets/controls",
          "model_name": "VBoxModel",
          "model_module_version": "1.5.0",
          "state": {
            "_dom_classes": [
              "widget-interact"
            ],
            "_model_module": "@jupyter-widgets/controls",
            "_model_module_version": "1.5.0",
            "_model_name": "VBoxModel",
            "_view_count": null,
            "_view_module": "@jupyter-widgets/controls",
            "_view_module_version": "1.5.0",
            "_view_name": "VBoxView",
            "box_style": "",
            "children": [
              "IPY_MODEL_6616de751a9341f0a4aa7eeff6d3c309",
              "IPY_MODEL_249355a9600d4a568a9e0ae0fe63ff00"
            ],
            "layout": "IPY_MODEL_5e3d49090e7e4359a0e07fe4448997fd"
          }
        },
        "6616de751a9341f0a4aa7eeff6d3c309": {
          "model_module": "@jupyter-widgets/controls",
          "model_name": "IntSliderModel",
          "model_module_version": "1.5.0",
          "state": {
            "_dom_classes": [],
            "_model_module": "@jupyter-widgets/controls",
            "_model_module_version": "1.5.0",
            "_model_name": "IntSliderModel",
            "_view_count": null,
            "_view_module": "@jupyter-widgets/controls",
            "_view_module_version": "1.5.0",
            "_view_name": "IntSliderView",
            "continuous_update": true,
            "description": "idx",
            "description_tooltip": null,
            "disabled": false,
            "layout": "IPY_MODEL_1d29dc038ca14657892d373cedab2ccd",
            "max": 20,
            "min": 0,
            "orientation": "horizontal",
            "readout": true,
            "readout_format": "d",
            "step": 1,
            "style": "IPY_MODEL_00232327643a4c119d70e5310d42989f",
            "value": 10
          }
        },
        "249355a9600d4a568a9e0ae0fe63ff00": {
          "model_module": "@jupyter-widgets/output",
          "model_name": "OutputModel",
          "model_module_version": "1.0.0",
          "state": {
            "_dom_classes": [],
            "_model_module": "@jupyter-widgets/output",
            "_model_module_version": "1.0.0",
            "_model_name": "OutputModel",
            "_view_count": null,
            "_view_module": "@jupyter-widgets/output",
            "_view_module_version": "1.0.0",
            "_view_name": "OutputView",
            "layout": "IPY_MODEL_37cc1dce07d5488d972c0eb6d1dcf513",
            "msg_id": "",
            "outputs": [
              {
                "output_type": "display_data",
                "data": {
                  "text/plain": "<Figure size 432x288 with 1 Axes>",
                  "image/png": "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\n"
                },
                "metadata": {
                  "needs_background": "light"
                }
              }
            ]
          }
        },
        "5e3d49090e7e4359a0e07fe4448997fd": {
          "model_module": "@jupyter-widgets/base",
          "model_name": "LayoutModel",
          "model_module_version": "1.2.0",
          "state": {
            "_model_module": "@jupyter-widgets/base",
            "_model_module_version": "1.2.0",
            "_model_name": "LayoutModel",
            "_view_count": null,
            "_view_module": "@jupyter-widgets/base",
            "_view_module_version": "1.2.0",
            "_view_name": "LayoutView",
            "align_content": null,
            "align_items": null,
            "align_self": null,
            "border": null,
            "bottom": null,
            "display": null,
            "flex": null,
            "flex_flow": null,
            "grid_area": null,
            "grid_auto_columns": null,
            "grid_auto_flow": null,
            "grid_auto_rows": null,
            "grid_column": null,
            "grid_gap": null,
            "grid_row": null,
            "grid_template_areas": null,
            "grid_template_columns": null,
            "grid_template_rows": null,
            "height": null,
            "justify_content": null,
            "justify_items": null,
            "left": null,
            "margin": null,
            "max_height": null,
            "max_width": null,
            "min_height": null,
            "min_width": null,
            "object_fit": null,
            "object_position": null,
            "order": null,
            "overflow": null,
            "overflow_x": null,
            "overflow_y": null,
            "padding": null,
            "right": null,
            "top": null,
            "visibility": null,
            "width": null
          }
        },
        "1d29dc038ca14657892d373cedab2ccd": {
          "model_module": "@jupyter-widgets/base",
          "model_name": "LayoutModel",
          "model_module_version": "1.2.0",
          "state": {
            "_model_module": "@jupyter-widgets/base",
            "_model_module_version": "1.2.0",
            "_model_name": "LayoutModel",
            "_view_count": null,
            "_view_module": "@jupyter-widgets/base",
            "_view_module_version": "1.2.0",
            "_view_name": "LayoutView",
            "align_content": null,
            "align_items": null,
            "align_self": null,
            "border": null,
            "bottom": null,
            "display": null,
            "flex": null,
            "flex_flow": null,
            "grid_area": null,
            "grid_auto_columns": null,
            "grid_auto_flow": null,
            "grid_auto_rows": null,
            "grid_column": null,
            "grid_gap": null,
            "grid_row": null,
            "grid_template_areas": null,
            "grid_template_columns": null,
            "grid_template_rows": null,
            "height": null,
            "justify_content": null,
            "justify_items": null,
            "left": null,
            "margin": null,
            "max_height": null,
            "max_width": null,
            "min_height": null,
            "min_width": null,
            "object_fit": null,
            "object_position": null,
            "order": null,
            "overflow": null,
            "overflow_x": null,
            "overflow_y": null,
            "padding": null,
            "right": null,
            "top": null,
            "visibility": null,
            "width": null
          }
        },
        "00232327643a4c119d70e5310d42989f": {
          "model_module": "@jupyter-widgets/controls",
          "model_name": "SliderStyleModel",
          "model_module_version": "1.5.0",
          "state": {
            "_model_module": "@jupyter-widgets/controls",
            "_model_module_version": "1.5.0",
            "_model_name": "SliderStyleModel",
            "_view_count": null,
            "_view_module": "@jupyter-widgets/base",
            "_view_module_version": "1.2.0",
            "_view_name": "StyleView",
            "description_width": "",
            "handle_color": null
          }
        },
        "37cc1dce07d5488d972c0eb6d1dcf513": {
          "model_module": "@jupyter-widgets/base",
          "model_name": "LayoutModel",
          "model_module_version": "1.2.0",
          "state": {
            "_model_module": "@jupyter-widgets/base",
            "_model_module_version": "1.2.0",
            "_model_name": "LayoutModel",
            "_view_count": null,
            "_view_module": "@jupyter-widgets/base",
            "_view_module_version": "1.2.0",
            "_view_name": "LayoutView",
            "align_content": null,
            "align_items": null,
            "align_self": null,
            "border": null,
            "bottom": null,
            "display": null,
            "flex": null,
            "flex_flow": null,
            "grid_area": null,
            "grid_auto_columns": null,
            "grid_auto_flow": null,
            "grid_auto_rows": null,
            "grid_column": null,
            "grid_gap": null,
            "grid_row": null,
            "grid_template_areas": null,
            "grid_template_columns": null,
            "grid_template_rows": null,
            "height": null,
            "justify_content": null,
            "justify_items": null,
            "left": null,
            "margin": null,
            "max_height": null,
            "max_width": null,
            "min_height": null,
            "min_width": null,
            "object_fit": null,
            "object_position": null,
            "order": null,
            "overflow": null,
            "overflow_x": null,
            "overflow_y": null,
            "padding": null,
            "right": null,
            "top": null,
            "visibility": null,
            "width": null
          }
        }
      }
    }
  },
  "cells": [
    {
      "cell_type": "markdown",
      "metadata": {
        "id": "view-in-github",
        "colab_type": "text"
      },
      "source": [
        "<a href=\"https://colab.research.google.com/github/cabb1808/miniproyecto1/blob/main/miniproyecto1.ipynb\" target=\"_parent\"><img src=\"https://colab.research.google.com/assets/colab-badge.svg\" alt=\"Open In Colab\"/></a>"
      ]
    },
    {
      "cell_type": "code",
      "source": [
        "# Descargar datos de GIT\n",
        "!wget 'https://raw.githubusercontent.com/ageron/handson-ml/master/datasets/housing/housing.csv'\n"
      ],
      "metadata": {
        "id": "lJ1-rqTDZZh2",
        "outputId": "4b951bda-c57a-4239-fced-e7a42a89c41f",
        "colab": {
          "base_uri": "https://localhost:8080/"
        }
      },
      "execution_count": 49,
      "outputs": [
        {
          "output_type": "stream",
          "name": "stdout",
          "text": [
            "--2023-03-21 03:13:49--  https://raw.githubusercontent.com/ageron/handson-ml/master/datasets/housing/housing.csv\n",
            "Resolving raw.githubusercontent.com (raw.githubusercontent.com)... 185.199.108.133, 185.199.109.133, 185.199.110.133, ...\n",
            "Connecting to raw.githubusercontent.com (raw.githubusercontent.com)|185.199.108.133|:443... connected.\n",
            "HTTP request sent, awaiting response... 200 OK\n",
            "Length: 1423529 (1.4M) [text/plain]\n",
            "Saving to: ‘housing.csv.4’\n",
            "\n",
            "housing.csv.4       100%[===================>]   1.36M  --.-KB/s    in 0.02s   \n",
            "\n",
            "2023-03-21 03:13:49 (68.3 MB/s) - ‘housing.csv.4’ saved [1423529/1423529]\n",
            "\n"
          ]
        }
      ]
    },
    {
      "cell_type": "code",
      "metadata": {
        "colab": {
          "base_uri": "https://localhost:8080/"
        },
        "id": "zSLFkpJhJNKM",
        "outputId": "c673b74d-6b01-4191-8286-3db977f4fe13"
      },
      "source": [
        "!pip install pyts"
      ],
      "execution_count": 50,
      "outputs": [
        {
          "output_type": "stream",
          "name": "stdout",
          "text": [
            "Looking in indexes: https://pypi.org/simple, https://us-python.pkg.dev/colab-wheels/public/simple/\n",
            "Requirement already satisfied: pyts in /usr/local/lib/python3.9/dist-packages (0.12.0)\n",
            "Requirement already satisfied: numba>=0.48.0 in /usr/local/lib/python3.9/dist-packages (from pyts) (0.56.4)\n",
            "Requirement already satisfied: scipy>=1.3.0 in /usr/local/lib/python3.9/dist-packages (from pyts) (1.10.1)\n",
            "Requirement already satisfied: joblib>=0.12 in /usr/local/lib/python3.9/dist-packages (from pyts) (1.1.1)\n",
            "Requirement already satisfied: scikit-learn>=0.22.1 in /usr/local/lib/python3.9/dist-packages (from pyts) (1.2.2)\n",
            "Requirement already satisfied: numpy>=1.17.5 in /usr/local/lib/python3.9/dist-packages (from pyts) (1.22.4)\n",
            "Requirement already satisfied: setuptools in /usr/local/lib/python3.9/dist-packages (from numba>=0.48.0->pyts) (63.4.3)\n",
            "Requirement already satisfied: llvmlite<0.40,>=0.39.0dev0 in /usr/local/lib/python3.9/dist-packages (from numba>=0.48.0->pyts) (0.39.1)\n",
            "Requirement already satisfied: threadpoolctl>=2.0.0 in /usr/local/lib/python3.9/dist-packages (from scikit-learn>=0.22.1->pyts) (3.1.0)\n"
          ]
        }
      ]
    },
    {
      "cell_type": "code",
      "metadata": {
        "id": "tlgrLlrlYqML"
      },
      "source": [
        "import numpy as np\n",
        "import matplotlib.pyplot as plt\n",
        "from pyts.decomposition import SingularSpectrumAnalysis\n",
        "import scipy.io as sc\n"
      ],
      "execution_count": 51,
      "outputs": []
    },
    {
      "cell_type": "code",
      "source": [
        "ruta_Sismo = 'https://drive.google.com/file/d/1p5QZOtKzF_THvpt6N46ypi4PkBHM12QI/view?usp=sharing'\n",
        "!gdown  \"1p5QZOtKzF_THvpt6N46ypi4PkBHM12QI&confirm=t\" -O 'sisLoc.mat' # sismo regional\n",
        "!gdown  \"1p5QZOtKzF_THvpt6N46ypi4PkBHM12QI&confirm=t\" -O 'sisReg.mat' # sismo regional\n",
        "!gdown  \"1p5QZOtKzF_THvpt6N46ypi4PkBHM12QI&confirm=t\" -O 'sisTele.mat' # sismo regional"
      ],
      "metadata": {
        "colab": {
          "base_uri": "https://localhost:8080/"
        },
        "id": "mgtsVYOn5ut7",
        "outputId": "5adbccd6-4a9a-42a4-acbb-6bc41779c328"
      },
      "execution_count": 52,
      "outputs": [
        {
          "output_type": "stream",
          "name": "stdout",
          "text": [
            "Downloading...\n",
            "From: https://drive.google.com/uc?id=1p5QZOtKzF_THvpt6N46ypi4PkBHM12QI&confirm=t\n",
            "To: /content/sisLoc.mat\n",
            "100% 1.55M/1.55M [00:00<00:00, 172MB/s]\n",
            "Downloading...\n",
            "From: https://drive.google.com/uc?id=1p5QZOtKzF_THvpt6N46ypi4PkBHM12QI&confirm=t\n",
            "To: /content/sisReg.mat\n",
            "100% 1.55M/1.55M [00:00<00:00, 155MB/s]\n",
            "Downloading...\n",
            "From: https://drive.google.com/uc?id=1p5QZOtKzF_THvpt6N46ypi4PkBHM12QI&confirm=t\n",
            "To: /content/sisTele.mat\n",
            "100% 1.55M/1.55M [00:00<00:00, 144MB/s]\n"
          ]
        }
      ]
    },
    {
      "cell_type": "code",
      "metadata": {
        "colab": {
          "base_uri": "https://localhost:8080/",
          "height": 279
        },
        "id": "dozBebbrYqlS",
        "outputId": "13dac2ba-66b2-4c34-c184-bc0ce5168a3b"
      },
      "source": [
        "data_local = sc.loadmat('sisLoc.mat')\n",
        "data_regio = sc.loadmat('sisReg.mat')\n",
        "data_tele = sc.loadmat('sisTele.mat')\n",
        "\n",
        "data_local.keys() # variables del diccionario\n",
        "\n",
        "Y = data_local['Y']\n",
        "fs = data_local['fs'][0][0]\n",
        "\n",
        "\n",
        "#Eliminar valores en cero\n",
        "Y_L=[]\n",
        "for i in range(len(Y)):\n",
        "  if Y[i][-1] == 0:\n",
        "    c=0\n",
        "    for j in range(1,len(Y[i])):\n",
        "      if Y[i][-j] != 0:\n",
        "        break\n",
        "      else: \n",
        "        c=c+1\n",
        "    Y_L.append(Y[i][0:(len(Y[i])-c)])\n",
        "  else: \n",
        "    Y_L.append(Y[i][:])\n",
        "\n",
        "\n",
        "\n",
        "for i in range(len(Y_L)):\n",
        "  plt.plot(Y_L[i].T)\n",
        "plt.xlabel('sample')\n",
        "plt.ylabel('$\\mu$ V')\n",
        "plt.show()"
      ],
      "execution_count": 96,
      "outputs": [
        {
          "output_type": "display_data",
          "data": {
            "text/plain": [
              "<Figure size 432x288 with 1 Axes>"
            ],
            "image/png": "[encoded data removed]"
          },
          "metadata": {
            "needs_background": "light"
          }
        }
      ]
    },
    {
      "cell_type": "code",
      "source": [
        "@interact(idx = (0,20,1))\n",
        "\n",
        "def plotSismos(idx):\n",
        "  \n",
        "  sampleSignal = Y_L[idx][:] # se extrae una señal de la base de datos\n",
        "  plt.figure\n",
        "  plt.plot(sampleSignal)\n",
        "  plt.xlabel('sample')\n",
        "  plt.ylabel('$\\mu$ V')\n",
        "  plt.show()"
      ],
      "metadata": {
        "colab": {
          "base_uri": "https://localhost:8080/",
          "height": 311,
          "referenced_widgets": [
            "1323aec1098845058298f866c50ac24a",
            "f7bae5ae132444449e0fd3041f812f9d",
            "73c3b41246c94a699e7ca7772e6dc1ba",
            "5b407993fa164a818ddd5ce50967ca6d",
            "ee3c49bd916643dfa564080b4569f2c8",
            "ca83a6be645a42a1b9e385aabab9eb9a",
            "0399d6fb3cc14d9f8bbbe21765e7484e"
          ]
        },
        "outputId": "ee966f46-42f7-4bfe-ac89-04ab7844611c",
        "id": "OQTBiorvn0tu"
      },
      "execution_count": 97,
      "outputs": [
        {
          "output_type": "display_data",
          "data": {
            "text/plain": [
              "interactive(children=(IntSlider(value=10, description='idx', max=20), Output()), _dom_classes=('widget-interac…"
            ],
            "application/vnd.jupyter.widget-view+json": {
              "version_major": 2,
              "version_minor": 0,
              "model_id": "1323aec1098845058298f866c50ac24a"
            }
          },
          "metadata": {}
        }
      ]
    },
    {
      "cell_type": "code",
      "source": [
        "# Agregar filtro"
      ],
      "metadata": {
        "id": "ExMc3_aJRUrN"
      },
      "execution_count": null,
      "outputs": []
    },
    {
      "cell_type": "code",
      "metadata": {
        "colab": {
          "base_uri": "https://localhost:8080/",
          "height": 399
        },
        "id": "9_ovh2MhIdt5",
        "outputId": "2fe7e57e-777f-4e15-9d12-301bd0b9d057"
      },
      "source": [
        "# We decompose the time series into three subseries\n",
        "X_L = Y_L # Conjunto de 21 sismos\n",
        "groups = 3\n",
        "# Singular Spectrum Analysis\n",
        "ssa = SingularSpectrumAnalysis(window_size=groups)\n",
        "X_ssa = ssa.fit_transform(X_L)\n",
        "\n",
        "# Show the results for the first time series and its subseries\n",
        "plt.figure(figsize=(16, 6))\n",
        "idSignal = 3\n",
        "ax1 = plt.subplot(121)\n",
        "ax1.plot(X[idSignal], 'o-', label='Original')\n",
        "ax1.legend(loc='best', fontsize=14)\n",
        "\n",
        "ax2 = plt.subplot(122)\n",
        "\n",
        "for i in range(groups):\n",
        "    ax2.plot(X_ssa[idSignal, i], 'o--', label='SSA {0}'.format(i + 1))\n",
        "ax2.legend(loc='best', fontsize=14)\n",
        "\n",
        "plt.suptitle('Singular Spectrum Analysis', fontsize=20)\n",
        "\n",
        "plt.tight_layout()\n",
        "plt.subplots_adjust(top=0.88)\n",
        "plt.show()\n",
        "\n",
        "# The first subseries consists of the trend of the original time series.\n",
        "# The second and third subseries consist of noise."
      ],
      "execution_count": 98,
      "outputs": [
        {
          "output_type": "error",
          "ename": "ValueError",
          "evalue": "ignored",
          "traceback": [
            "\u001b[0;31m---------------------------------------------------------------------------\u001b[0m",
            "\u001b[0;31mValueError\u001b[0m                                Traceback (most recent call last)",
            "\u001b[0;32m<ipython-input-98-05892c82ded0>\u001b[0m in \u001b[0;36m<module>\u001b[0;34m\u001b[0m\n\u001b[1;32m      4\u001b[0m \u001b[0;31m# Singular Spectrum Analysis\u001b[0m\u001b[0;34m\u001b[0m\u001b[0;34m\u001b[0m\u001b[0m\n\u001b[1;32m      5\u001b[0m \u001b[0mssa\u001b[0m \u001b[0;34m=\u001b[0m \u001b[0mSingularSpectrumAnalysis\u001b[0m\u001b[0;34m(\u001b[0m\u001b[0mwindow_size\u001b[0m\u001b[0;34m=\u001b[0m\u001b[0mgroups\u001b[0m\u001b[0;34m)\u001b[0m\u001b[0;34m\u001b[0m\u001b[0;34m\u001b[0m\u001b[0m\n\u001b[0;32m----> 6\u001b[0;31m \u001b[0mX_ssa\u001b[0m \u001b[0;34m=\u001b[0m \u001b[0mssa\u001b[0m\u001b[0;34m.\u001b[0m\u001b[0mfit_transform\u001b[0m\u001b[0;34m(\u001b[0m\u001b[0mX_L\u001b[0m\u001b[0;34m)\u001b[0m\u001b[0;34m\u001b[0m\u001b[0;34m\u001b[0m\u001b[0m\n\u001b[0m\u001b[1;32m      7\u001b[0m \u001b[0;34m\u001b[0m\u001b[0m\n\u001b[1;32m      8\u001b[0m \u001b[0;31m# Show the results for the first time series and its subseries\u001b[0m\u001b[0;34m\u001b[0m\u001b[0;34m\u001b[0m\u001b[0m\n",
            "\u001b[0;32m/usr/local/lib/python3.9/dist-packages/pyts/base.py\u001b[0m in \u001b[0;36mfit_transform\u001b[0;34m(self, X, y, **fit_params)\u001b[0m\n\u001b[1;32m     35\u001b[0m         \u001b[0;32mif\u001b[0m \u001b[0my\u001b[0m \u001b[0;32mis\u001b[0m \u001b[0;32mNone\u001b[0m\u001b[0;34m:\u001b[0m\u001b[0;34m\u001b[0m\u001b[0;34m\u001b[0m\u001b[0m\n\u001b[1;32m     36\u001b[0m             \u001b[0;31m# fit method of arity 1 (unsupervised transformation)\u001b[0m\u001b[0;34m\u001b[0m\u001b[0;34m\u001b[0m\u001b[0m\n\u001b[0;32m---> 37\u001b[0;31m             \u001b[0;32mreturn\u001b[0m \u001b[0mself\u001b[0m\u001b[0;34m.\u001b[0m\u001b[0mfit\u001b[0m\u001b[0;34m(\u001b[0m\u001b[0mX\u001b[0m\u001b[0;34m,\u001b[0m \u001b[0;34m**\u001b[0m\u001b[0mfit_params\u001b[0m\u001b[0;34m)\u001b[0m\u001b[0;34m.\u001b[0m\u001b[0mtransform\u001b[0m\u001b[0;34m(\u001b[0m\u001b[0mX\u001b[0m\u001b[0;34m)\u001b[0m\u001b[0;34m\u001b[0m\u001b[0;34m\u001b[0m\u001b[0m\n\u001b[0m\u001b[1;32m     38\u001b[0m         \u001b[0;32melse\u001b[0m\u001b[0;34m:\u001b[0m\u001b[0;34m\u001b[0m\u001b[0;34m\u001b[0m\u001b[0m\n\u001b[1;32m     39\u001b[0m             \u001b[0;31m# fit method of arity 2 (supervised transformation)\u001b[0m\u001b[0;34m\u001b[0m\u001b[0;34m\u001b[0m\u001b[0m\n",
            "\u001b[0;32m/usr/local/lib/python3.9/dist-packages/pyts/decomposition/ssa.py\u001b[0m in \u001b[0;36mtransform\u001b[0;34m(self, X)\u001b[0m\n\u001b[1;32m    114\u001b[0m \u001b[0;34m\u001b[0m\u001b[0m\n\u001b[1;32m    115\u001b[0m         \"\"\"\n\u001b[0;32m--> 116\u001b[0;31m         \u001b[0mX\u001b[0m \u001b[0;34m=\u001b[0m \u001b[0mcheck_array\u001b[0m\u001b[0;34m(\u001b[0m\u001b[0mX\u001b[0m\u001b[0;34m,\u001b[0m \u001b[0mdtype\u001b[0m\u001b[0;34m=\u001b[0m\u001b[0;34m'float64'\u001b[0m\u001b[0;34m)\u001b[0m\u001b[0;34m\u001b[0m\u001b[0;34m\u001b[0m\u001b[0m\n\u001b[0m\u001b[1;32m    117\u001b[0m         \u001b[0mn_samples\u001b[0m\u001b[0;34m,\u001b[0m \u001b[0mn_timestamps\u001b[0m \u001b[0;34m=\u001b[0m \u001b[0mX\u001b[0m\u001b[0;34m.\u001b[0m\u001b[0mshape\u001b[0m\u001b[0;34m\u001b[0m\u001b[0;34m\u001b[0m\u001b[0m\n\u001b[1;32m    118\u001b[0m         \u001b[0mwindow_size\u001b[0m \u001b[0;34m=\u001b[0m \u001b[0mself\u001b[0m\u001b[0;34m.\u001b[0m\u001b[0m_check_params\u001b[0m\u001b[0;34m(\u001b[0m\u001b[0mn_timestamps\u001b[0m\u001b[0;34m)\u001b[0m\u001b[0;34m\u001b[0m\u001b[0;34m\u001b[0m\u001b[0m\n",
            "\u001b[0;32m/usr/local/lib/python3.9/dist-packages/sklearn/utils/validation.py\u001b[0m in \u001b[0;36mcheck_array\u001b[0;34m(array, accept_sparse, accept_large_sparse, dtype, order, copy, force_all_finite, ensure_2d, allow_nd, ensure_min_samples, ensure_min_features, estimator, input_name)\u001b[0m\n\u001b[1;32m    877\u001b[0m                     \u001b[0marray\u001b[0m \u001b[0;34m=\u001b[0m \u001b[0mxp\u001b[0m\u001b[0;34m.\u001b[0m\u001b[0mastype\u001b[0m\u001b[0;34m(\u001b[0m\u001b[0marray\u001b[0m\u001b[0;34m,\u001b[0m \u001b[0mdtype\u001b[0m\u001b[0;34m,\u001b[0m \u001b[0mcopy\u001b[0m\u001b[0;34m=\u001b[0m\u001b[0;32mFalse\u001b[0m\u001b[0;34m)\u001b[0m\u001b[0;34m\u001b[0m\u001b[0;34m\u001b[0m\u001b[0m\n\u001b[1;32m    878\u001b[0m                 \u001b[0;32melse\u001b[0m\u001b[0;34m:\u001b[0m\u001b[0;34m\u001b[0m\u001b[0;34m\u001b[0m\u001b[0m\n\u001b[0;32m--> 879\u001b[0;31m                     \u001b[0marray\u001b[0m \u001b[0;34m=\u001b[0m \u001b[0m_asarray_with_order\u001b[0m\u001b[0;34m(\u001b[0m\u001b[0marray\u001b[0m\u001b[0;34m,\u001b[0m \u001b[0morder\u001b[0m\u001b[0;34m=\u001b[0m\u001b[0morder\u001b[0m\u001b[0;34m,\u001b[0m \u001b[0mdtype\u001b[0m\u001b[0;34m=\u001b[0m\u001b[0mdtype\u001b[0m\u001b[0;34m,\u001b[0m \u001b[0mxp\u001b[0m\u001b[0;34m=\u001b[0m\u001b[0mxp\u001b[0m\u001b[0;34m)\u001b[0m\u001b[0;34m\u001b[0m\u001b[0;34m\u001b[0m\u001b[0m\n\u001b[0m\u001b[1;32m    880\u001b[0m             \u001b[0;32mexcept\u001b[0m \u001b[0mComplexWarning\u001b[0m \u001b[0;32mas\u001b[0m \u001b[0mcomplex_warning\u001b[0m\u001b[0;34m:\u001b[0m\u001b[0;34m\u001b[0m\u001b[0;34m\u001b[0m\u001b[0m\n\u001b[1;32m    881\u001b[0m                 raise ValueError(\n",
            "\u001b[0;32m/usr/local/lib/python3.9/dist-packages/sklearn/utils/_array_api.py\u001b[0m in \u001b[0;36m_asarray_with_order\u001b[0;34m(array, dtype, order, copy, xp)\u001b[0m\n\u001b[1;32m    183\u001b[0m     \u001b[0;32mif\u001b[0m \u001b[0mxp\u001b[0m\u001b[0;34m.\u001b[0m\u001b[0m__name__\u001b[0m \u001b[0;32min\u001b[0m \u001b[0;34m{\u001b[0m\u001b[0;34m\"numpy\"\u001b[0m\u001b[0;34m,\u001b[0m \u001b[0;34m\"numpy.array_api\"\u001b[0m\u001b[0;34m}\u001b[0m\u001b[0;34m:\u001b[0m\u001b[0;34m\u001b[0m\u001b[0;34m\u001b[0m\u001b[0m\n\u001b[1;32m    184\u001b[0m         \u001b[0;31m# Use NumPy API to support order\u001b[0m\u001b[0;34m\u001b[0m\u001b[0;34m\u001b[0m\u001b[0m\n\u001b[0;32m--> 185\u001b[0;31m         \u001b[0marray\u001b[0m \u001b[0;34m=\u001b[0m \u001b[0mnumpy\u001b[0m\u001b[0;34m.\u001b[0m\u001b[0masarray\u001b[0m\u001b[0;34m(\u001b[0m\u001b[0marray\u001b[0m\u001b[0;34m,\u001b[0m \u001b[0morder\u001b[0m\u001b[0;34m=\u001b[0m\u001b[0morder\u001b[0m\u001b[0;34m,\u001b[0m \u001b[0mdtype\u001b[0m\u001b[0;34m=\u001b[0m\u001b[0mdtype\u001b[0m\u001b[0;34m)\u001b[0m\u001b[0;34m\u001b[0m\u001b[0;34m\u001b[0m\u001b[0m\n\u001b[0m\u001b[1;32m    186\u001b[0m         \u001b[0;32mreturn\u001b[0m \u001b[0mxp\u001b[0m\u001b[0;34m.\u001b[0m\u001b[0masarray\u001b[0m\u001b[0;34m(\u001b[0m\u001b[0marray\u001b[0m\u001b[0;34m,\u001b[0m \u001b[0mcopy\u001b[0m\u001b[0;34m=\u001b[0m\u001b[0mcopy\u001b[0m\u001b[0;34m)\u001b[0m\u001b[0;34m\u001b[0m\u001b[0;34m\u001b[0m\u001b[0m\n\u001b[1;32m    187\u001b[0m     \u001b[0;32melse\u001b[0m\u001b[0;34m:\u001b[0m\u001b[0;34m\u001b[0m\u001b[0;34m\u001b[0m\u001b[0m\n",
            "\u001b[0;31mValueError\u001b[0m: setting an array element with a sequence. The requested array has an inhomogeneous shape after 1 dimensions. The detected shape was (21,) + inhomogeneous part."
          ]
        }
      ]
    },
    {
      "cell_type": "code",
      "source": [
        "from ipywidgets import interact"
      ],
      "metadata": {
        "id": "NhgfwtGNuINf"
      },
      "execution_count": 91,
      "outputs": []
    },
    {
      "cell_type": "code",
      "source": [
        "@interact(idx = (0,20,1))\n",
        "\n",
        "def plotSismos(idx):\n",
        "  \n",
        "  sampleSignal = Y[idx,:] # se extrae una señal de la base de datos\n",
        "  plt.figure\n",
        "  plt.plot(sampleSignal)\n",
        "  plt.xlabel('sample')\n",
        "  plt.ylabel('$\\mu$ V')\n",
        "  plt.show()"
      ],
      "metadata": {
        "colab": {
          "base_uri": "https://localhost:8080/",
          "height": 311,
          "referenced_widgets": [
            "e691c51d08134b8587655617e58bab8a",
            "6616de751a9341f0a4aa7eeff6d3c309",
            "249355a9600d4a568a9e0ae0fe63ff00",
            "5e3d49090e7e4359a0e07fe4448997fd",
            "1d29dc038ca14657892d373cedab2ccd",
            "00232327643a4c119d70e5310d42989f",
            "37cc1dce07d5488d972c0eb6d1dcf513"
          ]
        },
        "id": "r6BWAKBOt_cv",
        "outputId": "8e07e364-9a6e-4dbe-8cee-ed4f2cda54bd"
      },
      "execution_count": 92,
      "outputs": [
        {
          "output_type": "display_data",
          "data": {
            "text/plain": [
              "interactive(children=(IntSlider(value=10, description='idx', max=20), Output()), _dom_classes=('widget-interac…"
            ],
            "application/vnd.jupyter.widget-view+json": {
              "version_major": 2,
              "version_minor": 0,
              "model_id": "e691c51d08134b8587655617e58bab8a"
            }
          },
          "metadata": {}
        }
      ]
    }
  ]
}