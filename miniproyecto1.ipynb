{
  "nbformat": 4,
  "nbformat_minor": 0,
  "metadata": {
    "colab": {
      "provenance": [],
      "include_colab_link": true
    },
    "kernelspec": {
      "name": "python3",
      "display_name": "Python 3"
    },
    "language_info": {
      "name": "python"
    },
    "widgets": {
      "application/vnd.jupyter.widget-state+json": {
        "f3f0b219a2354b899897ca899ed459e9": {
          "model_module": "@jupyter-widgets/controls",
          "model_name": "VBoxModel",
          "model_module_version": "1.5.0",
          "state": {
            "_dom_classes": [
              "widget-interact"
            ],
            "_model_module": "@jupyter-widgets/controls",
            "_model_module_version": "1.5.0",
            "_model_name": "VBoxModel",
            "_view_count": null,
            "_view_module": "@jupyter-widgets/controls",
            "_view_module_version": "1.5.0",
            "_view_name": "VBoxView",
            "box_style": "",
            "children": [
              "IPY_MODEL_8c3d53a54da24db4803abf5d8dcb81cf",
              "IPY_MODEL_ac0e9bb187ca49a09fd257d81706a3f4"
            ],
            "layout": "IPY_MODEL_887f0af55ce448c7b6bc17ceb4ad20d9"
          }
        },
        "8c3d53a54da24db4803abf5d8dcb81cf": {
          "model_module": "@jupyter-widgets/controls",
          "model_name": "IntSliderModel",
          "model_module_version": "1.5.0",
          "state": {
            "_dom_classes": [],
            "_model_module": "@jupyter-widgets/controls",
            "_model_module_version": "1.5.0",
            "_model_name": "IntSliderModel",
            "_view_count": null,
            "_view_module": "@jupyter-widgets/controls",
            "_view_module_version": "1.5.0",
            "_view_name": "IntSliderView",
            "continuous_update": true,
            "description": "idx",
            "description_tooltip": null,
            "disabled": false,
            "layout": "IPY_MODEL_971915e7743649a18d6a4b88f261dd37",
            "max": 20,
            "min": 0,
            "orientation": "horizontal",
            "readout": true,
            "readout_format": "d",
            "step": 1,
            "style": "IPY_MODEL_0f6d8e7879784cd88b243b0ff07802ea",
            "value": 20
          }
        },
        "ac0e9bb187ca49a09fd257d81706a3f4": {
          "model_module": "@jupyter-widgets/output",
          "model_name": "OutputModel",
          "model_module_version": "1.0.0",
          "state": {
            "_dom_classes": [],
            "_model_module": "@jupyter-widgets/output",
            "_model_module_version": "1.0.0",
            "_model_name": "OutputModel",
            "_view_count": null,
            "_view_module": "@jupyter-widgets/output",
            "_view_module_version": "1.0.0",
            "_view_name": "OutputView",
            "layout": "IPY_MODEL_d8e85a297b8b4b8c8bd97729d33a05fb",
            "msg_id": "",
            "outputs": [
              {
                "output_type": "display_data",
                "data": {
                  "text/plain": "<Figure size 432x288 with 1 Axes>",
                  "image/png": "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\n"
                },
                "metadata": {
                  "needs_background": "light"
                }
              }
            ]
          }
        },
        "887f0af55ce448c7b6bc17ceb4ad20d9": {
          "model_module": "@jupyter-widgets/base",
          "model_name": "LayoutModel",
          "model_module_version": "1.2.0",
          "state": {
            "_model_module": "@jupyter-widgets/base",
            "_model_module_version": "1.2.0",
            "_model_name": "LayoutModel",
            "_view_count": null,
            "_view_module": "@jupyter-widgets/base",
            "_view_module_version": "1.2.0",
            "_view_name": "LayoutView",
            "align_content": null,
            "align_items": null,
            "align_self": null,
            "border": null,
            "bottom": null,
            "display": null,
            "flex": null,
            "flex_flow": null,
            "grid_area": null,
            "grid_auto_columns": null,
            "grid_auto_flow": null,
            "grid_auto_rows": null,
            "grid_column": null,
            "grid_gap": null,
            "grid_row": null,
            "grid_template_areas": null,
            "grid_template_columns": null,
            "grid_template_rows": null,
            "height": null,
            "justify_content": null,
            "justify_items": null,
            "left": null,
            "margin": null,
            "max_height": null,
            "max_width": null,
            "min_height": null,
            "min_width": null,
            "object_fit": null,
            "object_position": null,
            "order": null,
            "overflow": null,
            "overflow_x": null,
            "overflow_y": null,
            "padding": null,
            "right": null,
            "top": null,
            "visibility": null,
            "width": null
          }
        },
        "971915e7743649a18d6a4b88f261dd37": {
          "model_module": "@jupyter-widgets/base",
          "model_name": "LayoutModel",
          "model_module_version": "1.2.0",
          "state": {
            "_model_module": "@jupyter-widgets/base",
            "_model_module_version": "1.2.0",
            "_model_name": "LayoutModel",
            "_view_count": null,
            "_view_module": "@jupyter-widgets/base",
            "_view_module_version": "1.2.0",
            "_view_name": "LayoutView",
            "align_content": null,
            "align_items": null,
            "align_self": null,
            "border": null,
            "bottom": null,
            "display": null,
            "flex": null,
            "flex_flow": null,
            "grid_area": null,
            "grid_auto_columns": null,
            "grid_auto_flow": null,
            "grid_auto_rows": null,
            "grid_column": null,
            "grid_gap": null,
            "grid_row": null,
            "grid_template_areas": null,
            "grid_template_columns": null,
            "grid_template_rows": null,
            "height": null,
            "justify_content": null,
            "justify_items": null,
            "left": null,
            "margin": null,
            "max_height": null,
            "max_width": null,
            "min_height": null,
            "min_width": null,
            "object_fit": null,
            "object_position": null,
            "order": null,
            "overflow": null,
            "overflow_x": null,
            "overflow_y": null,
            "padding": null,
            "right": null,
            "top": null,
            "visibility": null,
            "width": null
          }
        },
        "0f6d8e7879784cd88b243b0ff07802ea": {
          "model_module": "@jupyter-widgets/controls",
          "model_name": "SliderStyleModel",
          "model_module_version": "1.5.0",
          "state": {
            "_model_module": "@jupyter-widgets/controls",
            "_model_module_version": "1.5.0",
            "_model_name": "SliderStyleModel",
            "_view_count": null,
            "_view_module": "@jupyter-widgets/base",
            "_view_module_version": "1.2.0",
            "_view_name": "StyleView",
            "description_width": "",
            "handle_color": null
          }
        },
        "d8e85a297b8b4b8c8bd97729d33a05fb": {
          "model_module": "@jupyter-widgets/base",
          "model_name": "LayoutModel",
          "model_module_version": "1.2.0",
          "state": {
            "_model_module": "@jupyter-widgets/base",
            "_model_module_version": "1.2.0",
            "_model_name": "LayoutModel",
            "_view_count": null,
            "_view_module": "@jupyter-widgets/base",
            "_view_module_version": "1.2.0",
            "_view_name": "LayoutView",
            "align_content": null,
            "align_items": null,
            "align_self": null,
            "border": null,
            "bottom": null,
            "display": null,
            "flex": null,
            "flex_flow": null,
            "grid_area": null,
            "grid_auto_columns": null,
            "grid_auto_flow": null,
            "grid_auto_rows": null,
            "grid_column": null,
            "grid_gap": null,
            "grid_row": null,
            "grid_template_areas": null,
            "grid_template_columns": null,
            "grid_template_rows": null,
            "height": null,
            "justify_content": null,
            "justify_items": null,
            "left": null,
            "margin": null,
            "max_height": null,
            "max_width": null,
            "min_height": null,
            "min_width": null,
            "object_fit": null,
            "object_position": null,
            "order": null,
            "overflow": null,
            "overflow_x": null,
            "overflow_y": null,
            "padding": null,
            "right": null,
            "top": null,
            "visibility": null,
            "width": null
          }
        }
      }
    }
  },
  "cells": [
    {
      "cell_type": "markdown",
      "metadata": {
        "id": "view-in-github",
        "colab_type": "text"
      },
      "source": [
        "<a href=\"https://colab.research.google.com/github/cabb1808/miniproyecto1/blob/main/miniproyecto1.ipynb\" target=\"_parent\"><img src=\"https://colab.research.google.com/assets/colab-badge.svg\" alt=\"Open In Colab\"/></a>"
      ]
    },
    {
      "cell_type": "code",
      "source": [
        "# Descargar datos de GIT\n",
        "!wget 'https://raw.githubusercontent.com/ageron/handson-ml/master/datasets/housing/housing.csv'\n"
      ],
      "metadata": {
        "id": "lJ1-rqTDZZh2",
        "outputId": "a34a47e1-ffc4-4cfb-c83d-c67a21e89d30",
        "colab": {
          "base_uri": "https://localhost:8080/"
        }
      },
      "execution_count": 1,
      "outputs": [
        {
          "output_type": "stream",
          "name": "stdout",
          "text": [
            "--2023-03-21 00:24:08--  https://raw.githubusercontent.com/ageron/handson-ml/master/datasets/housing/housing.csv\n",
            "Resolving raw.githubusercontent.com (raw.githubusercontent.com)... 185.199.108.133, 185.199.109.133, 185.199.110.133, ...\n",
            "Connecting to raw.githubusercontent.com (raw.githubusercontent.com)|185.199.108.133|:443... connected.\n",
            "HTTP request sent, awaiting response... 200 OK\n",
            "Length: 1423529 (1.4M) [text/plain]\n",
            "Saving to: ‘housing.csv’\n",
            "\n",
            "housing.csv         100%[===================>]   1.36M  --.-KB/s    in 0.02s   \n",
            "\n",
            "2023-03-21 00:24:09 (70.5 MB/s) - ‘housing.csv’ saved [1423529/1423529]\n",
            "\n"
          ]
        }
      ]
    },
    {
      "cell_type": "code",
      "metadata": {
        "colab": {
          "base_uri": "https://localhost:8080/"
        },
        "id": "zSLFkpJhJNKM",
        "outputId": "6bd1b858-71f2-45ce-9ad6-4086e0a618ba"
      },
      "source": [
        "!pip install pyts"
      ],
      "execution_count": 2,
      "outputs": [
        {
          "output_type": "stream",
          "name": "stdout",
          "text": [
            "Looking in indexes: https://pypi.org/simple, https://us-python.pkg.dev/colab-wheels/public/simple/\n",
            "Collecting pyts\n",
            "  Downloading pyts-0.12.0-py3-none-any.whl (2.5 MB)\n",
            "\u001b[2K     \u001b[90m━━━━━━━━━━━━━━━━━━━━━━━━━━━━━━━━━━━━━━━━\u001b[0m \u001b[32m2.5/2.5 MB\u001b[0m \u001b[31m27.2 MB/s\u001b[0m eta \u001b[36m0:00:00\u001b[0m\n",
            "\u001b[?25hRequirement already satisfied: joblib>=0.12 in /usr/local/lib/python3.9/dist-packages (from pyts) (1.1.1)\n",
            "Requirement already satisfied: numpy>=1.17.5 in /usr/local/lib/python3.9/dist-packages (from pyts) (1.22.4)\n",
            "Requirement already satisfied: numba>=0.48.0 in /usr/local/lib/python3.9/dist-packages (from pyts) (0.56.4)\n",
            "Requirement already satisfied: scikit-learn>=0.22.1 in /usr/local/lib/python3.9/dist-packages (from pyts) (1.2.2)\n",
            "Requirement already satisfied: scipy>=1.3.0 in /usr/local/lib/python3.9/dist-packages (from pyts) (1.10.1)\n",
            "Requirement already satisfied: setuptools in /usr/local/lib/python3.9/dist-packages (from numba>=0.48.0->pyts) (63.4.3)\n",
            "Requirement already satisfied: llvmlite<0.40,>=0.39.0dev0 in /usr/local/lib/python3.9/dist-packages (from numba>=0.48.0->pyts) (0.39.1)\n",
            "Requirement already satisfied: threadpoolctl>=2.0.0 in /usr/local/lib/python3.9/dist-packages (from scikit-learn>=0.22.1->pyts) (3.1.0)\n",
            "Installing collected packages: pyts\n",
            "Successfully installed pyts-0.12.0\n"
          ]
        }
      ]
    },
    {
      "cell_type": "code",
      "metadata": {
        "id": "tlgrLlrlYqML"
      },
      "source": [
        "import numpy as np\n",
        "import matplotlib.pyplot as plt\n",
        "from pyts.decomposition import SingularSpectrumAnalysis\n",
        "import scipy.io as sc\n"
      ],
      "execution_count": 3,
      "outputs": []
    },
    {
      "cell_type": "code",
      "source": [
        "ruta_Sismo = 'https://drive.google.com/file/d/1p5QZOtKzF_THvpt6N46ypi4PkBHM12QI/view?usp=sharing'\n",
        "!gdown  \"1p5QZOtKzF_THvpt6N46ypi4PkBHM12QI&confirm=t\" -O 'sismotest.mat' # sismo regional"
      ],
      "metadata": {
        "colab": {
          "base_uri": "https://localhost:8080/"
        },
        "id": "mgtsVYOn5ut7",
        "outputId": "af585766-4e93-42d3-bc21-c91a000a8048"
      },
      "execution_count": 4,
      "outputs": [
        {
          "output_type": "stream",
          "name": "stdout",
          "text": [
            "Downloading...\n",
            "From: https://drive.google.com/uc?id=1p5QZOtKzF_THvpt6N46ypi4PkBHM12QI&confirm=t\n",
            "To: /content/sismotest.mat\n",
            "\r  0% 0.00/1.55M [00:00<?, ?B/s]\r100% 1.55M/1.55M [00:00<00:00, 110MB/s]\n"
          ]
        }
      ]
    },
    {
      "cell_type": "code",
      "metadata": {
        "colab": {
          "base_uri": "https://localhost:8080/",
          "height": 297
        },
        "id": "dozBebbrYqlS",
        "outputId": "fed08a34-14a2-4b9c-d7aa-442dc5c0deda"
      },
      "source": [
        "data = sc.loadmat('sismotest.mat')\n",
        "data.keys() # variables del diccionario\n",
        "\n",
        "Y = data['Y']\n",
        "fs = data['fs'][0][0]\n",
        "print(fs)\n",
        "\n",
        "plt.plot(Y.T)\n",
        "plt.xlabel('sample')\n",
        "plt.ylabel('$\\mu$ V')\n",
        "plt.show()"
      ],
      "execution_count": 5,
      "outputs": [
        {
          "output_type": "stream",
          "name": "stdout",
          "text": [
            "100\n"
          ]
        },
        {
          "output_type": "display_data",
          "data": {
            "text/plain": [
              "<Figure size 432x288 with 1 Axes>"
            ],
            "image/png": "[encoded data removed]"
          },
          "metadata": {
            "needs_background": "light"
          }
        }
      ]
    },
    {
      "cell_type": "code",
      "source": [
        "from ipywidgets import interact"
      ],
      "metadata": {
        "id": "NhgfwtGNuINf"
      },
      "execution_count": 6,
      "outputs": []
    },
    {
      "cell_type": "code",
      "source": [
        "@interact(idx = (0,20,1))\n",
        "\n",
        "def plotSismos(idx):\n",
        "  \n",
        "  sampleSignal = Y[idx,:] # se extrae una señal de la base de datos\n",
        "  plt.figure\n",
        "  plt.plot(sampleSignal)\n",
        "  plt.xlabel('sample')\n",
        "  plt.ylabel('$\\mu$ V')\n",
        "  plt.show()"
      ],
      "metadata": {
        "colab": {
          "base_uri": "https://localhost:8080/",
          "height": 311,
          "referenced_widgets": [
            "f3f0b219a2354b899897ca899ed459e9",
            "8c3d53a54da24db4803abf5d8dcb81cf",
            "ac0e9bb187ca49a09fd257d81706a3f4",
            "887f0af55ce448c7b6bc17ceb4ad20d9",
            "971915e7743649a18d6a4b88f261dd37",
            "0f6d8e7879784cd88b243b0ff07802ea",
            "d8e85a297b8b4b8c8bd97729d33a05fb"
          ]
        },
        "id": "r6BWAKBOt_cv",
        "outputId": "c157a50e-7d74-470a-ad74-5f7b7a0fe428"
      },
      "execution_count": 7,
      "outputs": [
        {
          "output_type": "display_data",
          "data": {
            "text/plain": [
              "interactive(children=(IntSlider(value=10, description='idx', max=20), Output()), _dom_classes=('widget-interac…"
            ],
            "application/vnd.jupyter.widget-view+json": {
              "version_major": 2,
              "version_minor": 0,
              "model_id": "f3f0b219a2354b899897ca899ed459e9"
            }
          },
          "metadata": {}
        }
      ]
    }
  ]
}